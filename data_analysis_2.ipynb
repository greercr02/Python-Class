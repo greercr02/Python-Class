{
 "cells": [
  {
   "cell_type": "code",
   "execution_count": 3,
   "id": "dc6801a9",
   "metadata": {},
   "outputs": [],
   "source": [
    "import re # regular expression\n",
    "macbeth_txt = open(\"data/pg2264.txt\", encoding=\"utf-8\").read().lower() # Use open function to read from a text file\n"
   ]
  },
  {
   "cell_type": "code",
   "execution_count": 7,
   "id": "18366e55",
   "metadata": {},
   "outputs": [
    {
     "name": "stdout",
     "output_type": "stream",
     "text": [
      "The word 'the' occurs765 times in the novel!\n",
      "The word 'while' occurs7 times in the novel!\n",
      "The word 'good' occurs49 times in the novel!\n",
      "The word 'bad' occurs5 times in the novel!\n",
      "The word 'ireland' occurs2 times in the novel!\n",
      "The word 'irish' occurs0 times in the novel!\n"
     ]
    }
   ],
   "source": [
    "words = re.findall(r\"\\b[\\w-]+\\b\", macbeth_txt)\n",
    "words_to_find = [\"the\", \"while\", \"good\", \"bad\", \"ireland\", \"irish\"]\n",
    "for word in words_to_find:\n",
    "    print(\"The word '\" + word + \"' occurs\" + str(words.count(word)) + \" times in the novel!\")\n"
   ]
  }
 ],
 "metadata": {
  "kernelspec": {
   "display_name": "Python 3 (ipykernel)",
   "language": "python",
   "name": "python3"
  },
  "language_info": {
   "codemirror_mode": {
    "name": "ipython",
    "version": 3
   },
   "file_extension": ".py",
   "mimetype": "text/x-python",
   "name": "python",
   "nbconvert_exporter": "python",
   "pygments_lexer": "ipython3",
   "version": "3.9.12"
  }
 },
 "nbformat": 4,
 "nbformat_minor": 5
}
