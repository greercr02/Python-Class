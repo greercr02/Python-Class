{
 "cells": [
  {
   "cell_type": "code",
   "execution_count": 3,
   "id": "22533b37",
   "metadata": {},
   "outputs": [
    {
     "ename": "NameError",
     "evalue": "name 'condition' is not defined",
     "output_type": "error",
     "traceback": [
      "\u001b[1;31m---------------------------------------------------------------------------\u001b[0m",
      "\u001b[1;31mNameError\u001b[0m                                 Traceback (most recent call last)",
      "Input \u001b[1;32mIn [3]\u001b[0m, in \u001b[0;36m<cell line: 4>\u001b[1;34m()\u001b[0m\n\u001b[0;32m      1\u001b[0m \u001b[38;5;66;03m#### The if statement is used to control the program flow in a python\u001b[39;00m\n\u001b[0;32m      2\u001b[0m \u001b[38;5;66;03m##### pseudo code for if conditions\u001b[39;00m\n\u001b[1;32m----> 4\u001b[0m \u001b[38;5;28;01mif\u001b[39;00m \u001b[43mcondition\u001b[49m:\n\u001b[0;32m      5\u001b[0m     statement\n\u001b[0;32m      6\u001b[0m     statement\n",
      "\u001b[1;31mNameError\u001b[0m: name 'condition' is not defined"
     ]
    }
   ],
   "source": [
    "#### The if statement is used to control the program flow in a python\n",
    "##### pseudo code for if conditions\n",
    "\n",
    "if condition:\n",
    "    statement\n",
    "    statement\n",
    "    # further statements if necessary\n"
   ]
  }
 ],
 "metadata": {
  "kernelspec": {
   "display_name": "Python 3 (ipykernel)",
   "language": "python",
   "name": "python3"
  },
  "language_info": {
   "codemirror_mode": {
    "name": "ipython",
    "version": 3
   },
   "file_extension": ".py",
   "mimetype": "text/x-python",
   "name": "python",
   "nbconvert_exporter": "python",
   "pygments_lexer": "ipython3",
   "version": "3.9.12"
  }
 },
 "nbformat": 4,
 "nbformat_minor": 5
}
