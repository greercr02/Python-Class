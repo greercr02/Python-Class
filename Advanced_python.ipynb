{
 "cells": [
  {
   "cell_type": "markdown",
   "id": "1389f5ec",
   "metadata": {},
   "source": [
    "### Object Oriented Programming (OOP)\n",
    "The purpose of OOP is to model real world problems in computers. Examples of problems are cars, banking, homes, coffee pot, design/building twitter. \n",
    "There is an object called Object in python and we call this as a Super Class\n",
    "print() -> Object \n",
    "str() - Object \n",
    "help() - Object\n",
    "example: In python, Object, print()\n",
    "Real World Examples:\n",
    "Car object:\n",
    "Car.steeringwheel()\n",
    "car.hasWheels()\n",
    "Car.hasBrakes()\n",
    "Car.getMaxSpeed()\n",
    "Car.getName\n",
    "Car.setName()\n",
    "Car is a Template - Instance / BluePrint\n",
    "Car.setName(\"Ford\") = Ford Car\n",
    "Car.setName(\"GMC) = GMC Car\n",
    "### Definition of OOP \n",
    "- Understanding th eproblem domain: This step is crucial: you need to know what your customer wants (stakeholders before you can write a program that does what the customer wants)\n",
    "- Figuring out what type(s) you might want: A good starting point is to read the description of the problem domain (Requriements Document). You will extract grammatical elements such as nouns, verbs and adjectvies from the document to design your virtual objects. \n",
    "- Figuring out what features you want your type to have: Here you should write some code that uses the type you are thinking about \n",
    "- Writing a class that represents this type: You need to tell python about your type. To do this, you will write a class including a set of methods (functions) inisde that class. You will use the function design recipe as you design and implement each of your methods. \n",
    "- Testing your code: Your methods will have to be tested separately as you followed the funciton desgin recipe. "
   ]
  },
  {
   "cell_type": "markdown",
   "id": "4a406df6",
   "metadata": {},
   "source": [
    "### Function isinstance, Class object, and class book"
   ]
  },
  {
   "cell_type": "code",
   "execution_count": 2,
   "id": "25cbab17",
   "metadata": {},
   "outputs": [
    {
     "data": {
      "text/plain": [
       "True"
      ]
     },
     "execution_count": 2,
     "metadata": {},
     "output_type": "execute_result"
    }
   ],
   "source": [
    "isinstance('abc', str)"
   ]
  },
  {
   "cell_type": "code",
   "execution_count": 4,
   "id": "e582c3da",
   "metadata": {},
   "outputs": [
    {
     "data": {
      "text/plain": [
       "False"
      ]
     },
     "execution_count": 4,
     "metadata": {},
     "output_type": "execute_result"
    }
   ],
   "source": [
    "isinstance(55.2, str)"
   ]
  },
  {
   "cell_type": "code",
   "execution_count": 8,
   "id": "1dc30cd7",
   "metadata": {},
   "outputs": [
    {
     "name": "stdout",
     "output_type": "stream",
     "text": [
      "Help on class object in module builtins:\n",
      "\n",
      "class object\n",
      " |  The base class of the class hierarchy.\n",
      " |  \n",
      " |  When called, it accepts no arguments and returns a new featureless\n",
      " |  instance that has no instance attributes and cannot be given any.\n",
      " |  \n",
      " |  Built-in subclasses:\n",
      " |      ArgNotFound\n",
      " |      async_generator\n",
      " |      BaseException\n",
      " |      builtin_function_or_method\n",
      " |      ... and 117 other subclasses\n",
      " |  \n",
      " |  Methods defined here:\n",
      " |  \n",
      " |  __delattr__(self, name, /)\n",
      " |      Implement delattr(self, name).\n",
      " |  \n",
      " |  __dir__(self, /)\n",
      " |      Default dir() implementation.\n",
      " |  \n",
      " |  __eq__(self, value, /)\n",
      " |      Return self==value.\n",
      " |  \n",
      " |  __format__(self, format_spec, /)\n",
      " |      Default object formatter.\n",
      " |  \n",
      " |  __ge__(self, value, /)\n",
      " |      Return self>=value.\n",
      " |  \n",
      " |  __getattribute__(self, name, /)\n",
      " |      Return getattr(self, name).\n",
      " |  \n",
      " |  __gt__(self, value, /)\n",
      " |      Return self>value.\n",
      " |  \n",
      " |  __hash__(self, /)\n",
      " |      Return hash(self).\n",
      " |  \n",
      " |  __init__(self, /, *args, **kwargs)\n",
      " |      Initialize self.  See help(type(self)) for accurate signature.\n",
      " |  \n",
      " |  __le__(self, value, /)\n",
      " |      Return self<=value.\n",
      " |  \n",
      " |  __lt__(self, value, /)\n",
      " |      Return self<value.\n",
      " |  \n",
      " |  __ne__(self, value, /)\n",
      " |      Return self!=value.\n",
      " |  \n",
      " |  __reduce__(self, /)\n",
      " |      Helper for pickle.\n",
      " |  \n",
      " |  __reduce_ex__(self, protocol, /)\n",
      " |      Helper for pickle.\n",
      " |  \n",
      " |  __repr__(self, /)\n",
      " |      Return repr(self).\n",
      " |  \n",
      " |  __setattr__(self, name, value, /)\n",
      " |      Implement setattr(self, name, value).\n",
      " |  \n",
      " |  __sizeof__(self, /)\n",
      " |      Size of object in memory, in bytes.\n",
      " |  \n",
      " |  __str__(self, /)\n",
      " |      Return str(self).\n",
      " |  \n",
      " |  ----------------------------------------------------------------------\n",
      " |  Class methods defined here:\n",
      " |  \n",
      " |  __init_subclass__(...) from builtins.type\n",
      " |      This method is called when a class is subclassed.\n",
      " |      \n",
      " |      The default implementation does nothing. It may be\n",
      " |      overridden to extend subclasses.\n",
      " |  \n",
      " |  __subclasshook__(...) from builtins.type\n",
      " |      Abstract classes can override this to customize issubclass().\n",
      " |      \n",
      " |      This is invoked early on by abc.ABCMeta.__subclasscheck__().\n",
      " |      It should return True, False or NotImplemented.  If it returns\n",
      " |      NotImplemented, the normal algorithm is used.  Otherwise, it\n",
      " |      overrides the normal algorithm (and the outcome is cached).\n",
      " |  \n",
      " |  ----------------------------------------------------------------------\n",
      " |  Static methods defined here:\n",
      " |  \n",
      " |  __new__(*args, **kwargs) from builtins.type\n",
      " |      Create and return a new object.  See help(type) for accurate signature.\n",
      " |  \n",
      " |  ----------------------------------------------------------------------\n",
      " |  Data and other attributes defined here:\n",
      " |  \n",
      " |  __class__ = <class 'type'>\n",
      " |      type(object) -> the object's type\n",
      " |      type(name, bases, dict, **kwds) -> a new type\n",
      "\n"
     ]
    }
   ],
   "source": [
    "# Python has a class claled object, every other class is based on it: \n",
    "help(object)"
   ]
  },
  {
   "cell_type": "code",
   "execution_count": 10,
   "id": "7f80b1e9",
   "metadata": {},
   "outputs": [
    {
     "data": {
      "text/plain": [
       "True"
      ]
     },
     "execution_count": 10,
     "metadata": {},
     "output_type": "execute_result"
    }
   ],
   "source": [
    "isinstance(55.2, object)"
   ]
  },
  {
   "cell_type": "code",
   "execution_count": 12,
   "id": "b1c8dea3",
   "metadata": {},
   "outputs": [
    {
     "data": {
      "text/plain": [
       "True"
      ]
     },
     "execution_count": 12,
     "metadata": {},
     "output_type": "execute_result"
    }
   ],
   "source": [
    "isinstance(\"abc\", object)"
   ]
  },
  {
   "cell_type": "code",
   "execution_count": 14,
   "id": "96e6a7f4",
   "metadata": {},
   "outputs": [],
   "source": [
    "class Book: \n",
    "    pass"
   ]
  },
  {
   "cell_type": "code",
   "execution_count": 17,
   "id": "c44974ff",
   "metadata": {},
   "outputs": [],
   "source": [
    "penguinBook = Book()"
   ]
  },
  {
   "cell_type": "code",
   "execution_count": 19,
   "id": "dec0a611",
   "metadata": {},
   "outputs": [
    {
     "data": {
      "text/plain": [
       "2180167364128"
      ]
     },
     "execution_count": 19,
     "metadata": {},
     "output_type": "execute_result"
    }
   ],
   "source": [
    "id(penguinBook)"
   ]
  },
  {
   "cell_type": "code",
   "execution_count": 20,
   "id": "70b1afec",
   "metadata": {},
   "outputs": [],
   "source": [
    "# You should connect to a Database\n",
    "class ConnectDB():\n",
    "    pass"
   ]
  },
  {
   "cell_type": "code",
   "execution_count": 22,
   "id": "63ee15ba",
   "metadata": {},
   "outputs": [
    {
     "ename": "NameError",
     "evalue": "name 'tableName' is not defined",
     "output_type": "error",
     "traceback": [
      "\u001b[1;31m---------------------------------------------------------------------------\u001b[0m",
      "\u001b[1;31mNameError\u001b[0m                                 Traceback (most recent call last)",
      "Input \u001b[1;32mIn [22]\u001b[0m, in \u001b[0;36m<cell line: 1>\u001b[1;34m()\u001b[0m\n\u001b[1;32m----> 1\u001b[0m \u001b[38;5;28;01mclass\u001b[39;00m \u001b[38;5;21;01mRetrieveData\u001b[39;00m(\u001b[43mtableName\u001b[49m):\n\u001b[0;32m      2\u001b[0m     \u001b[38;5;28;01mpass\u001b[39;00m\n",
      "\u001b[1;31mNameError\u001b[0m: name 'tableName' is not defined"
     ]
    }
   ],
   "source": [
    "class RetrieveData(tableName):\n",
    "    pass"
   ]
  },
  {
   "cell_type": "code",
   "execution_count": 23,
   "id": "3c1f0c58",
   "metadata": {},
   "outputs": [],
   "source": [
    "class GenerateFCCDataFrame():\n",
    "    pass"
   ]
  },
  {
   "cell_type": "code",
   "execution_count": 24,
   "id": "d666a13b",
   "metadata": {},
   "outputs": [],
   "source": [
    "class GenerateFraudModel():\n",
    "    pass"
   ]
  },
  {
   "cell_type": "markdown",
   "id": "25700a30",
   "metadata": {},
   "source": [
    "### Access Students Database, \n",
    "- 1) View all report cards\n",
    "- 2) View a students report card\n",
    "- 3) Adding a student\n",
    "- 4) Add a marks to the student\n",
    "- 5) Enter 5 to exit"
   ]
  },
  {
   "cell_type": "code",
   "execution_count": 25,
   "id": "8ffa0be0",
   "metadata": {},
   "outputs": [],
   "source": [
    "# Step 1: We will create a student database \n",
    "student_data = [[\"Ben\", {\"Maths\": 67, \"English\": 78, \"Science\": 72}],\n",
    "               [\"Mark\", {\"Maths\": 56, \"Art\": 64, \"History\": 39, \"Geography\": 55}],\n",
    "               [\"Paul\", {\"English\": 66, \"History\": 88}]]\n",
    "grades = ((0, \"Fail\"), (50, \"D\"), (60, \"C\"), (70, \"B\"), (80, \"A\"), (101, \"CHEAT\"))"
   ]
  },
  {
   "cell_type": "code",
   "execution_count": 30,
   "id": "530d3c22",
   "metadata": {},
   "outputs": [
    {
     "name": "stdout",
     "output_type": "stream",
     "text": [
      "Maths 67\n",
      "English 78\n",
      "Science 72\n"
     ]
    },
    {
     "data": {
      "text/plain": [
       "dict_items"
      ]
     },
     "execution_count": 30,
     "metadata": {},
     "output_type": "execute_result"
    }
   ],
   "source": [
    "studentMarks = {\"Maths\": 67, \"English\": 78, \"Science\": 72}\n",
    "for subject, mark in studentMarks.items():\n",
    "    print(subject, mark)\n",
    "    \n",
    "type(studentMarks.items())"
   ]
  },
  {
   "cell_type": "code",
   "execution_count": 31,
   "id": "ded7a73a",
   "metadata": {},
   "outputs": [
    {
     "name": "stdout",
     "output_type": "stream",
     "text": [
      "(0, 'Fail')\n",
      "(50, 'D')\n",
      "(60, 'C')\n",
      "(70, 'B')\n",
      "(80, 'A')\n",
      "(101, 'CHEAT')\n"
     ]
    }
   ],
   "source": [
    "for i in grades: \n",
    "    print(i)"
   ]
  },
  {
   "cell_type": "code",
   "execution_count": 36,
   "id": "13c08b41",
   "metadata": {},
   "outputs": [
    {
     "name": "stdout",
     "output_type": "stream",
     "text": [
      "Welcome to the student Database\n",
      "What can I help you with?\n",
      "Enter 1 to view all report cards\n",
      "Enter 2 to view the report card for a student \n",
      "Enter 3 to add a student\n",
      "Enter 4 to add a mark to a student\n",
      "Enter 5 to exit\n",
      "Choice: 1\n",
      "Report card for student Ben\n",
      "Maths  :  C\n",
      "English  :  B\n",
      "Science  :  B\n",
      "Report card for student Mark\n",
      "Maths  :  D\n",
      "Art  :  C\n",
      "History  :  Fail\n",
      "Geography  :  D\n",
      "Report card for student Paul\n",
      "English  :  C\n",
      "History  :  A\n",
      "Press enter to continue5\n",
      "Welcome to the student Database\n",
      "What can I help you with?\n",
      "Enter 1 to view all report cards\n",
      "Enter 2 to view the report card for a student \n",
      "Enter 3 to add a student\n",
      "Enter 4 to add a mark to a student\n",
      "Enter 5 to exit\n",
      "Choice: 2\n",
      "Which Student? 3\n",
      "Press enter to continue4\n",
      "Welcome to the student Database\n",
      "What can I help you with?\n",
      "Enter 1 to view all report cards\n",
      "Enter 2 to view the report card for a student \n",
      "Enter 3 to add a student\n",
      "Enter 4 to add a mark to a student\n",
      "Enter 5 to exit\n",
      "Choice: 5\n",
      "Thank you for using the Student Database\n"
     ]
    }
   ],
   "source": [
    "class Student():\n",
    "    def __init__(self,name, marks): # This is a constructor\n",
    "        self.name = name # This acts as a member variable, and accessible throughout the class\n",
    "        self.marks = marks\n",
    "        \n",
    "    def print_report_card(self):\n",
    "        print(\"Report card for student\", self.name)\n",
    "        for subject, mark in self.marks.items():\n",
    "            for i in grades:\n",
    "                if mark < i[0]:\n",
    "                    print(subject, \" : \", prev_grade)\n",
    "                    break\n",
    "                prev_grade = i[1]\n",
    "                \n",
    "    def add_mark(self, student_name, subject, mark):\n",
    "        if subject in self.marks.keys():\n",
    "            print(student_name, \" already has a mark for \", subject)\n",
    "            user_input = input(\"Overwrite Y/N? \")\n",
    "            if user_input == \"Y\" or user_input == \"y\":\n",
    "                self.marks[subject] = mark\n",
    "                return \"Students mark updated\"\n",
    "            else:\n",
    "                return \"Students mark not updated\"\n",
    "        else:\n",
    "            self.marks[subject] = mark\n",
    "            return \"Students mark added\"\n",
    "class Students():\n",
    "    def __init__(self, all_students):\n",
    "        self.students = []\n",
    "        for student, mark in all_students:\n",
    "            self.add_student(student, mark)\n",
    "            \n",
    "    def add_student(self, student_name, marks = {}):\n",
    "        if self.exists(student_name):\n",
    "            return \"Student alredy exists in the database\"\n",
    "        else:\n",
    "            self.students.append(Student(student_name, marks))\n",
    "            return \"Student Added\"\n",
    "        \n",
    "    def print_report_cards(self, student_name = None):\n",
    "        for student in self.students:\n",
    "            if student_name == None or student_name == student.name:\n",
    "                student.print_report_card()\n",
    "    \n",
    "    def exists(self, student_name):\n",
    "        for student in self.students:\n",
    "            if student_name == student.name:\n",
    "                return True\n",
    "        return False\n",
    "    \n",
    "    def add_mark(self, student_name, subject, mark):\n",
    "        for student in self.students:\n",
    "            if student_name == student.name:\n",
    "                return student.add_mark(student_name, subject, mark)\n",
    "        return \"Student Not Found\"\n",
    "                \n",
    "  # Here we start witth the Implementation\n",
    "students = Students(student_data) # This calls class Students()\n",
    "while True:\n",
    "    print(\"Welcome to the student Database\")\n",
    "    print(\"What can I help you with?\")\n",
    "    print(\"Enter 1 to view all report cards\")\n",
    "    print(\"Enter 2 to view the report card for a student \")\n",
    "    print(\"Enter 3 to add a student\")\n",
    "    print(\"Enter 4 to add a mark to a student\")\n",
    "    print(\"Enter 5 to exit\")\n",
    "    \n",
    "    try:\n",
    "        user_choice = int(input(\"Choice: \"))\n",
    "    except ValueError:\n",
    "        print(\"That's not a number I recognize\")\n",
    "        user_choice = 0\n",
    "        \n",
    "    if user_choice == 1:\n",
    "        students.print_report_cards()\n",
    "    elif user_choice == 2:\n",
    "        enter_student = input(\"Which Student? \")\n",
    "        students.print_report_cards(enter_student)\n",
    "    elif user_choice == 3:\n",
    "        enter_student = input(\"Student Name? \")\n",
    "        print(students.add_student(enter_student))\n",
    "    elif user_choice == 4:\n",
    "        enter_student = input(\"Student Name? \")\n",
    "        enter_subject = input(\"Subject? \")\n",
    "        num_error = True\n",
    "        while num_error:\n",
    "            num_error = False\n",
    "            try:\n",
    "                enter_mark = int(input(\"Mark? \"))\n",
    "            except ValueError:\n",
    "                print(\"I don't recognize that as a number\")\n",
    "                num_error = True\n",
    "        print(students.add_mark(enter_student, enter_subject, enter_mark))\n",
    "    elif user_choice == 5:\n",
    "        break\n",
    "    else:\n",
    "        print(\"Unknown choice\")\n",
    "    \n",
    "    input(\"Press enter to continue\")\n",
    "print(\"Thank you for using the Student Database\")     \n",
    "            "
   ]
  }
 ],
 "metadata": {
  "kernelspec": {
   "display_name": "Python 3 (ipykernel)",
   "language": "python",
   "name": "python3"
  },
  "language_info": {
   "codemirror_mode": {
    "name": "ipython",
    "version": 3
   },
   "file_extension": ".py",
   "mimetype": "text/x-python",
   "name": "python",
   "nbconvert_exporter": "python",
   "pygments_lexer": "ipython3",
   "version": "3.9.12"
  }
 },
 "nbformat": 4,
 "nbformat_minor": 5
}
