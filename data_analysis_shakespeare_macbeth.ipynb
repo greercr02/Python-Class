{
 "cells": [
  {
   "cell_type": "code",
   "execution_count": 1,
   "id": "32636946",
   "metadata": {},
   "outputs": [
    {
     "data": {
      "text/plain": [
       "'C:\\\\Users\\\\santo\\\\Documents\\\\IntroPython'"
      ]
     },
     "execution_count": 1,
     "metadata": {},
     "output_type": "execute_result"
    }
   ],
   "source": [
    "%pwd\n",
    "# This is a word count example"
   ]
  },
  {
   "cell_type": "code",
   "execution_count": 1,
   "id": "afaf20c2",
   "metadata": {},
   "outputs": [],
   "source": [
    "import re # regular expression\n",
    "ulysses_txt = open(\"data/pg2264.txt\", encoding=\"utf-8\").read().lower() # Use open function to read from a text file"
   ]
  },
  {
   "cell_type": "code",
   "execution_count": 4,
   "id": "dbc222ae",
   "metadata": {},
   "outputs": [
    {
     "name": "stdout",
     "output_type": "stream",
     "text": [
      "The word 'the' occurs 765 times in the novel!\n",
      "The word 'while' occurs 7 times in the novel!\n",
      "The word 'good' occurs 49 times in the novel!\n",
      "The word 'bad' occurs 5 times in the novel!\n",
      "The word 'ireland' occurs 2 times in the novel!\n",
      "The word 'irish' occurs 0 times in the novel!\n",
      "The word 'serpent' occurs 2 times in the novel!\n",
      "The word 'blood' occurs 23 times in the novel!\n",
      "The word 'time' occurs 54 times in the novel!\n",
      "The word 'night' occurs 29 times in the novel!\n"
     ]
    }
   ],
   "source": [
    "words = re.findall(r\"\\b[\\w-]+\\b\", ulysses_txt)\n",
    "words_to_find = [\"the\", \"while\", \"good\", \"bad\", \"ireland\", \"irish\", \"serpent\", \"blood\", \"time\", \"night\"]\n",
    "for word in words_to_find:\n",
    "    print(\"The word '\" + word + \"' occurs \" + str(words.count(word)) + \" times in the novel!\")"
   ]
  },
  {
   "cell_type": "code",
   "execution_count": 9,
   "id": "a76a180e",
   "metadata": {},
   "outputs": [
    {
     "name": "stdout",
     "output_type": "stream",
     "text": [
      "Ulysses text contains 4056 different words!\n"
     ]
    }
   ],
   "source": [
    "words = re.findall(r\"\\b[\\w-]+\\b\", ulysses_txt)\n",
    "diff_words = set(words)\n",
    "print(\"Ulysses text contains \" + str(len(diff_words)) + \" different words!\")"
   ]
  },
  {
   "cell_type": "code",
   "execution_count": null,
   "id": "48bc2f92",
   "metadata": {},
   "outputs": [],
   "source": []
  }
 ],
 "metadata": {
  "kernelspec": {
   "display_name": "Python 3 (ipykernel)",
   "language": "python",
   "name": "python3"
  },
  "language_info": {
   "codemirror_mode": {
    "name": "ipython",
    "version": 3
   },
   "file_extension": ".py",
   "mimetype": "text/x-python",
   "name": "python",
   "nbconvert_exporter": "python",
   "pygments_lexer": "ipython3",
   "version": "3.9.12"
  }
 },
 "nbformat": 4,
 "nbformat_minor": 5
}
